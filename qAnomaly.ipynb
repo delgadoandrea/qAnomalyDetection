{
 "cells": [
  {
   "cell_type": "code",
   "execution_count": 1,
   "metadata": {},
   "outputs": [],
   "source": [
    "import pennylane as qml\n",
    "from pennylane import numpy as np\n",
    "import pandas as pd\n",
    "import matplotlib.pyplot as plt\n",
    "import scipy\n",
    "import csv\n",
    "import seaborn as sns"
   ]
  },
  {
   "attachments": {},
   "cell_type": "markdown",
   "metadata": {},
   "source": [
    "Generate dataset"
   ]
  },
  {
   "cell_type": "code",
   "execution_count": 2,
   "metadata": {},
   "outputs": [],
   "source": [
    "def generate_dataset(num_samples, num_outliers):\n",
    "    # Generate random samples\n",
    "    samples = np.random.rand(num_samples, 3)\n",
    "\n",
    "    # Generate random indices for outliers\n",
    "    outlier_indices = np.random.choice(num_samples, num_outliers, replace=False)\n",
    "\n",
    "    # Assign labels to samples\n",
    "    labels = np.zeros(num_samples)\n",
    "    labels[outlier_indices] = 1\n",
    "\n",
    "    return samples, labels\n",
    "\n",
    "num_samples = 90\n",
    "num_outliers = 10\n",
    "\n",
    "dataset, labels = generate_dataset(num_samples, num_outliers)"
   ]
  },
  {
   "cell_type": "code",
   "execution_count": 3,
   "metadata": {},
   "outputs": [
    {
     "data": {
      "text/plain": [
       "tensor([0., 0., 0., 0., 0., 0., 0., 0., 0., 0., 0., 0., 0., 0., 0., 0.,\n",
       "        0., 0., 0., 0., 1., 0., 0., 0., 0., 1., 0., 0., 0., 0., 0., 1.,\n",
       "        0., 0., 0., 0., 0., 0., 0., 0., 0., 0., 0., 0., 0., 0., 0., 0.,\n",
       "        0., 0., 0., 0., 0., 1., 0., 0., 0., 0., 0., 1., 0., 0., 0., 1.,\n",
       "        0., 1., 0., 0., 0., 1., 0., 1., 0., 0., 0., 0., 0., 0., 0., 0.,\n",
       "        0., 0., 0., 0., 0., 0., 0., 1., 0., 0.], requires_grad=True)"
      ]
     },
     "execution_count": 3,
     "metadata": {},
     "output_type": "execute_result"
    }
   ],
   "source": [
    "labels"
   ]
  },
  {
   "cell_type": "code",
   "execution_count": 4,
   "metadata": {},
   "outputs": [],
   "source": [
    "normal_data = []\n",
    "anomalies = []\n",
    "\n",
    "for i in range(len(dataset)):\n",
    "    if(labels[i] == 0.):\n",
    "        normal_data.append(dataset[i])\n",
    "    else:\n",
    "        anomalies.append(dataset[i])"
   ]
  },
  {
   "cell_type": "code",
   "execution_count": 5,
   "metadata": {},
   "outputs": [],
   "source": [
    "n_qubits = 3\n",
    "n_layers_g = 3\n",
    "n_layers_d = 3"
   ]
  },
  {
   "cell_type": "code",
   "execution_count": 6,
   "metadata": {},
   "outputs": [],
   "source": [
    "startval_gpar = (2.*np.pi)*np.random.random(n_qubits*n_layers_g)\n",
    "startval_dpar = (2.*np.pi)*np.random.random(3*n_qubits*n_layers_d+3)"
   ]
  },
  {
   "cell_type": "code",
   "execution_count": 7,
   "metadata": {},
   "outputs": [],
   "source": [
    "gen_dev = qml.device('default.qubit', wires=n_qubits)\n",
    "\n",
    "@qml.qnode(gen_dev)\n",
    "def generator_discriminator(g_par, d_par):\n",
    "    \"\"\"Generator and discriminator circuits.\n",
    "\n",
    "    Args:\n",
    "        g_par (array): array of parameters for the generator\n",
    "        d_par (array): array of parameters for the discriminator\n",
    "\n",
    "    Returns:\n",
    "        expectation value of the Pauli Z on the last qubit\n",
    "    \"\"\"\n",
    "    # Generator circuit\n",
    "    for i in range(n_qubits):\n",
    "        qml.Hadamard(wires=i)\n",
    "\n",
    "    shape = (n_layers_g, n_qubits)\n",
    "    g_par = g_par.reshape(shape)\n",
    "    for j in range(n_layers_g):\n",
    "        for i in range(n_qubits):\n",
    "            qml.RY(g_par[j,i], wires=i)\n",
    "        # There must be a better way to do this\n",
    "        qml.CZ(wires=[0,1])\n",
    "        qml.CZ(wires=[1,2])\n",
    "        qml.CZ(wires=[0,2])\n",
    "\n",
    "    # Discriminator circuit\n",
    "    for i in range(n_qubits):\n",
    "        qml.Hadamard(wires=i)\n",
    "    \n",
    "    layer_par = d_par[:3*n_qubits*n_layers_d]\n",
    "    shape = (n_layers_d, n_qubits, 3)\n",
    "    layer_par = layer_par.reshape(shape)\n",
    "    for j in range(n_layers_d):\n",
    "        for i in range(n_qubits):\n",
    "            qml.Rot(layer_par[j,i,0], layer_par[j,i,1], layer_par[j,i,2], wires=i)\n",
    "        qml.CZ(wires=[0,1])\n",
    "        qml.CZ(wires=[1,2])\n",
    "\n",
    "    qml.CNOT(wires=[0,2])\n",
    "    qml.CNOT(wires=[0,1])\n",
    "    last_layer_par = d_par[3*n_qubits*n_layers_d:]\n",
    "    qml.Rot(last_layer_par[0], last_layer_par[1], last_layer_par[2], wires=2)\n",
    "\n",
    "    return qml.expval(qml.PauliZ(wires=n_qubits-1))"
   ]
  },
  {
   "cell_type": "code",
   "execution_count": 8,
   "metadata": {},
   "outputs": [
    {
     "data": {
      "image/png": "[encoded data removed]",
      "text/plain": [
       "<Figure size 2016x288 with 1 Axes>"
      ]
     },
     "metadata": {},
     "output_type": "display_data"
    }
   ],
   "source": [
    "%%capture --no-display\n",
    "drawer = qml.draw_mpl(generator_discriminator)\n",
    "print(drawer(startval_gpar, startval_dpar))"
   ]
  },
  {
   "cell_type": "code",
   "execution_count": 9,
   "metadata": {},
   "outputs": [],
   "source": [
    "enc_dev = qml.device('default.qubit', wires=n_qubits)\n",
    "\n",
    "@qml.qnode(enc_dev)\n",
    "def encoding_discriminator(sample, d_par):\n",
    "    \"\"\"Encoding and discriminator circuits.\n",
    "\n",
    "    Args:\n",
    "        sample (array): array of parameters for a single data point in training dataset\n",
    "        d_par (array): array of parameters for the discriminator\n",
    "\n",
    "    Returns:\n",
    "        expectation value of the Pauli Z on the last qubit\n",
    "    \"\"\"\n",
    "    # Encoding circuit\n",
    "    for i in range(n_qubits):\n",
    "        qml.RY(sample[i], wires=i)\n",
    "\n",
    "    # Discriminator circuit\n",
    "    for i in range(n_qubits):\n",
    "        qml.Hadamard(wires=i)\n",
    "    \n",
    "    layer_par = d_par[:3*n_qubits*n_layers_d]\n",
    "    shape = (n_layers_d, n_qubits, 3)\n",
    "    layer_par = layer_par.reshape(shape)\n",
    "    for j in range(n_layers_d):\n",
    "        for i in range(n_qubits):\n",
    "            qml.Rot(layer_par[j,i,0], layer_par[j,i,1], layer_par[j,i,2], wires=i)\n",
    "        qml.CZ(wires=[0,1])\n",
    "        qml.CZ(wires=[1,2])\n",
    "\n",
    "    qml.CNOT(wires=[0,2])\n",
    "    qml.CNOT(wires=[0,1])\n",
    "    last_layer_par = d_par[3*n_qubits*n_layers_d:]\n",
    "    qml.Rot(last_layer_par[0], last_layer_par[1], last_layer_par[2], wires=2)\n",
    "\n",
    "    return qml.expval(qml.PauliZ(n_qubits-1))"
   ]
  },
  {
   "attachments": {},
   "cell_type": "markdown",
   "metadata": {},
   "source": [
    "Helper functions in equations (3) and (4)"
   ]
  },
  {
   "cell_type": "code",
   "execution_count": 26,
   "metadata": {},
   "outputs": [],
   "source": [
    "def gen_loss(g_par, d_par):\n",
    "    \"\"\"Generator loss function.\n",
    "\n",
    "    Args:\n",
    "        g_par (array): array of parameters for the generator\n",
    "        d_par (array): array of parameters for the discriminator\n",
    "    \"\"\"\n",
    "    c_generated = -0.5 + 0.5*generator_discriminator(g_par, d_par)\n",
    "    #print(c_generated)\n",
    "\n",
    "    return c_generated"
   ]
  },
  {
   "cell_type": "code",
   "execution_count": 30,
   "metadata": {},
   "outputs": [],
   "source": [
    "def disc_loss(dataset, g_par, d_par):\n",
    "    \"\"\"Discriminator loss function.\n",
    "\n",
    "    Args:\n",
    "        g_par (array): array of parameters for the generator\n",
    "        d_par (array): array of parameters for the discriminator\n",
    "    \"\"\"\n",
    "    sum = 0\n",
    "    for i in range(len(dataset)):\n",
    "        sum += encoding_discriminator(dataset[i], d_par)\n",
    "\n",
    "    c_data = 0.5 - 0.5*sum/len(dataset)\n",
    "\n",
    "    return -1.0*(gen_loss(g_par, d_par) + c_data) "
   ]
  },
  {
   "cell_type": "code",
   "execution_count": 34,
   "metadata": {},
   "outputs": [],
   "source": [
    "nsteps=100 # number of training steps to execute \n",
    "\n",
    "opt_method = qml.AdamOptimizer\n",
    "opt = opt_method(stepsize=0.01) \n",
    "\n",
    "gen_losses = []\n",
    "disc_losses = []"
   ]
  },
  {
   "cell_type": "code",
   "execution_count": 35,
   "metadata": {},
   "outputs": [
    {
     "name": "stdout",
     "output_type": "stream",
     "text": [
      "Iter:     0 | Cost: -0.6826561 \n",
      "Iter:     1 | Cost: -0.6925342 \n",
      "Iter:     2 | Cost: -0.7024127 \n",
      "Iter:     3 | Cost: -0.7122726 \n",
      "Iter:     4 | Cost: -0.7220947 \n"
     ]
    }
   ],
   "source": [
    "d_par = startval_dpar.copy()\n",
    "g_par = startval_gpar.copy()\n",
    "\n",
    "for i in range(0,5):\n",
    "    #d_par, dloss = opt.step_and_cost(lambda v: disc_loss(normal_data, g_par,v), d_par)\n",
    "    g_par, gloss = opt.step_and_cost(lambda v: gen_loss(v, d_par), g_par)\n",
    "    if i % 1 == 0:\n",
    "        print('Iter: {:5d} | Cost: {:0.7f} '.format(i, gloss))\n",
    "    #disc_losses.append(dloss)\n",
    "    gen_losses.append(gloss)"
   ]
  },
  {
   "cell_type": "code",
   "execution_count": null,
   "metadata": {},
   "outputs": [],
   "source": []
  },
  {
   "cell_type": "code",
   "execution_count": null,
   "metadata": {},
   "outputs": [],
   "source": []
  },
  {
   "cell_type": "code",
   "execution_count": null,
   "metadata": {},
   "outputs": [],
   "source": []
  }
 ],
 "metadata": {
  "kernelspec": {
   "display_name": "base",
   "language": "python",
   "name": "python3"
  },
  "language_info": {
   "codemirror_mode": {
    "name": "ipython",
    "version": 3
   },
   "file_extension": ".py",
   "mimetype": "text/x-python",
   "name": "python",
   "nbconvert_exporter": "python",
   "pygments_lexer": "ipython3",
   "version": "3.8.8"
  },
  "orig_nbformat": 4
 },
 "nbformat": 4,
 "nbformat_minor": 2
}
