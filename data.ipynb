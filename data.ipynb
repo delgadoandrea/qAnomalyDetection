{
 "cells": [
  {
   "cell_type": "code",
   "execution_count": 1,
   "metadata": {},
   "outputs": [
    {
     "data": {
      "image/png": "[encoded data removed]",
      "text/plain": [
       "<Figure size 432x288 with 1 Axes>"
      ]
     },
     "metadata": {
      "needs_background": "light"
     },
     "output_type": "display_data"
    }
   ],
   "source": [
    "import numpy as np\n",
    "import matplotlib.pyplot as plt\n",
    "from sklearn.datasets import make_circles\n",
    "\n",
    "# Generate the dataset\n",
    "X, y = make_circles(n_samples=20, factor=0.5, noise=0.05, random_state=42)\n",
    "\n",
    "# Plot the dataset\n",
    "plt.scatter(X[:, 0], X[:, 1], c=y, cmap='bwr')\n",
    "plt.xlabel('X')\n",
    "plt.ylabel('Y')\n",
    "plt.title('Concentric Circles Dataset')\n",
    "plt.show()"
   ]
  },
  {
   "cell_type": "code",
   "execution_count": 2,
   "metadata": {},
   "outputs": [
    {
     "data": {
      "text/plain": [
       "array([[ 1.07311891,  0.07693575],\n",
       "       [-0.27646379, -0.4453562 ],\n",
       "       [-0.5125522 , -0.00819336],\n",
       "       [ 0.73520051,  0.6621343 ],\n",
       "       [ 0.30779424, -0.93327895],\n",
       "       [-0.97914944,  0.04162309],\n",
       "       [ 0.38983854,  0.2924007 ],\n",
       "       [-0.30426071,  0.98428923],\n",
       "       [ 0.14749757, -0.47718793],\n",
       "       [-0.44196232, -0.33281173],\n",
       "       [-0.10706635,  0.55457079],\n",
       "       [ 0.29060845,  0.96983475],\n",
       "       [ 0.74935908, -0.60823785],\n",
       "       [ 0.38217142, -0.21768054],\n",
       "       [-0.792867  ,  0.51811441],\n",
       "       [ 0.04559178,  0.42333344],\n",
       "       [-0.30038231, -0.93484658],\n",
       "       [ 0.53729298, -0.09182916],\n",
       "       [-0.37628529,  0.29516766],\n",
       "       [-0.78535733, -0.55482572]])"
      ]
     },
     "execution_count": 2,
     "metadata": {},
     "output_type": "execute_result"
    }
   ],
   "source": [
    "X"
   ]
  },
  {
   "cell_type": "code",
   "execution_count": 5,
   "metadata": {},
   "outputs": [],
   "source": [
    "def generate_dataset(num_samples, num_outliers):\n",
    "    # Generate random samples\n",
    "    samples = np.random.rand(num_samples, 3)\n",
    "\n",
    "    # Generate random indices for outliers\n",
    "    outlier_indices = np.random.choice(num_samples, num_outliers, replace=False)\n",
    "\n",
    "    # Assign labels to samples\n",
    "    labels = np.zeros(num_samples)\n",
    "    labels[outlier_indices] = 1\n",
    "\n",
    "    return samples, labels\n",
    "\n",
    "num_samples = 100\n",
    "num_outliers = 10\n",
    "\n",
    "dataset, labels = generate_dataset(num_samples, num_outliers)"
   ]
  }
 ],
 "metadata": {
  "kernelspec": {
   "display_name": "base",
   "language": "python",
   "name": "python3"
  },
  "language_info": {
   "codemirror_mode": {
    "name": "ipython",
    "version": 3
   },
   "file_extension": ".py",
   "mimetype": "text/x-python",
   "name": "python",
   "nbconvert_exporter": "python",
   "pygments_lexer": "ipython3",
   "version": "3.8.8"
  },
  "orig_nbformat": 4
 },
 "nbformat": 4,
 "nbformat_minor": 2
}
